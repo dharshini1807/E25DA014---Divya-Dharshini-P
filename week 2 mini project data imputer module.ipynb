{
 "cells": [
  {
   "cell_type": "code",
   "execution_count": 16,
   "id": "246be98b-e03b-4134-9bd5-229b256c39cb",
   "metadata": {},
   "outputs": [
    {
     "name": "stdout",
     "output_type": "stream",
     "text": [
      "Original DataFrame with missing values:\n",
      "       Name   Age Department\n",
      "0    Alice  25.0         HR\n",
      "1      Bob   NaN    Finance\n",
      "2  Charlie  30.0        NaN\n",
      "3    David  22.0         IT\n",
      "4      Eve   NaN    Finance\n",
      "      Name        Age Department\n",
      "0    Alice  25.000000         HR\n",
      "1      Bob  25.666667    Finance\n",
      "2  Charlie  30.000000    Finance\n",
      "3    David  22.000000         IT\n",
      "4      Eve  25.666667    Finance\n"
     ]
    }
   ],
   "source": [
    "import pandas as pd\n",
    "import numpy as np\n",
    "data = {\n",
    "    \"Name\": [\"Alice\", \"Bob\", \"Charlie\", \"David\", \"Eve\"],\n",
    "    \"Age\": [25, np.nan, 30, 22, np.nan],\n",
    "    \"Department\": [\"HR\", \"Finance\", np.nan, \"IT\", \"Finance\"],\n",
    "}\n",
    "df = pd.DataFrame(data)\n",
    "print(\"Original DataFrame with missing values:\\n\", df)\n",
    "df.fillna({\"Age\": df[\"Age\"].mean()},inplace=True)\n",
    "df.fillna({\"Department\": df[\"Department\"].mode()[0]},inplace=True)\n",
    "df.to_csv(\"output.csv\",index=False)\n",
    "print(df)"
   ]
  },
  {
   "cell_type": "code",
   "execution_count": null,
   "id": "a18d7a10-68cc-4b4b-9e54-0a93aa9c4ca3",
   "metadata": {},
   "outputs": [],
   "source": []
  }
 ],
 "metadata": {
  "kernelspec": {
   "display_name": "Python 3 (ipykernel)",
   "language": "python",
   "name": "python3"
  },
  "language_info": {
   "codemirror_mode": {
    "name": "ipython",
    "version": 3
   },
   "file_extension": ".py",
   "mimetype": "text/x-python",
   "name": "python",
   "nbconvert_exporter": "python",
   "pygments_lexer": "ipython3",
   "version": "3.13.5"
  }
 },
 "nbformat": 4,
 "nbformat_minor": 5
}
