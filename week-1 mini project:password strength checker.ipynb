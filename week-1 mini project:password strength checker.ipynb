{
 "cells": [
  {
   "cell_type": "code",
   "execution_count": 1,
   "id": "1823df90-3582-4443-ba3a-a9e634862796",
   "metadata": {},
   "outputs": [
    {
     "name": "stdin",
     "output_type": "stream",
     "text": [
      "enter password: ABCsvh123%@&$*#\n"
     ]
    },
    {
     "name": "stdout",
     "output_type": "stream",
     "text": [
      "password length: 15\n",
      "good:password is strong\n",
      "weak password\n"
     ]
    }
   ],
   "source": [
    "import re\n",
    "password = input(\"enter password:\")\n",
    "print(\"password length:\",len(password))\n",
    "if len(password) < 6:\n",
    "    print(\"weak:password is too short.minimum 6 characters required.\")\n",
    "elif len(password) < 10:\n",
    "    print(\"medium:password length is not bad but could be stronger.\")\n",
    "else:\n",
    "    print(\"good:password is strong\")\n",
    "pattern = r'^(?=.[a-z])(?=.[A-Z]) (?=.\\d) (?=.[@$1%*?8]).+$'\n",
    "if re.match(pattern,password):\n",
    "    print(\"strong password\")\n",
    "else:\n",
    "    print(\"weak password\")\n"
   ]
  },
  {
   "cell_type": "code",
   "execution_count": null,
   "id": "82d4aa34-50aa-4b3f-8681-f48f0ef8e95f",
   "metadata": {},
   "outputs": [],
   "source": []
  }
 ],
 "metadata": {
  "kernelspec": {
   "display_name": "Python 3 (ipykernel)",
   "language": "python",
   "name": "python3"
  },
  "language_info": {
   "codemirror_mode": {
    "name": "ipython",
    "version": 3
   },
   "file_extension": ".py",
   "mimetype": "text/x-python",
   "name": "python",
   "nbconvert_exporter": "python",
   "pygments_lexer": "ipython3",
   "version": "3.13.5"
  }
 },
 "nbformat": 4,
 "nbformat_minor": 5
}
